{
 "cells": [
  {
   "cell_type": "markdown",
   "metadata": {
    "deletable": true,
    "editable": true
   },
   "source": [
    "# Sightseeing in New York City\n",
    "** Extracting patterns from geolocated venues and events **\n",
    "\n",
    "Machine learning, and in particular clustering algorithms, can be used to determine which geographical areas are commonly visited and “checked into” by a given user and which areas are not. Such geographical analyses enable a wide range of services, from location-based recommenders to advanced security systems, and in general provide a more personalized user experience. \n",
    "\n",
    "I will use these techniques to provide two flavours of predicting analytics: \n",
    "\n",
    "First, I will build a simple recommender system which will provide the most trending venues in a given area. In particular, k-means tclustering can be applied to the dataset of geolocated events to partition the map into regions. For each region, we can rank the venues which are most visited. With this information, we can recommend venues and landmarks such as Times Square or the Empire State Building depending of the location of the user.\n",
    "\n",
    "Second, I’ll determine geographical areas that are specific and personal to each user. In particular, I will use a density-based clustering technique such as DBSCAN to extract the areas where a user usually go. This analysis can be used to determine if a given data point is an _outlier_ with respect to the areas where a user normally checks in. And therefore it can be used to score a \"novelty\" or \"anomaly\" factor given the location of a given event\n",
    "\n",
    "We will analyze this events from a public dataset shared by Gowalla on venues checkins registered between 2008 and 2010. This notebook will cover some typical data science steps:\n",
    "\n",
    "  - data acquisition\n",
    "  - data preparation\n",
    "  - data exploration\n",
    "  \n",
    "Thereafter, we will dive into some unsupervised learning techniques: *k-means* and *dbscan* clustering, respectively for recommending popular venues and for determining outliers."
   ]
  },
  {
   "cell_type": "markdown",
   "metadata": {
    "deletable": true,
    "editable": true
   },
   "source": [
    "## Imports"
   ]
  },
  {
   "cell_type": "code",
   "execution_count": 9,
   "metadata": {
    "collapsed": false,
    "deletable": true,
    "editable": true
   },
   "outputs": [],
   "source": [
    "%matplotlib inline\n",
    "\n",
    "# utils\n",
    "import os\n",
    "import re\n",
    "import urllib\n",
    "\n",
    "# images on the notebook\n",
    "from PIL import Image\n",
    "\n",
    "# time\n",
    "import pytz as tz\n",
    "from datetime import datetime\n",
    "\n",
    "# cassandra driver\n",
    "from cassandra.cluster import Cluster\n",
    "from cassandra.cluster import SimpleStatement, ConsistencyLevel\n",
    "\n",
    "# data exploration\n",
    "import numpy as np\n",
    "np.random.seed(1337)\n",
    "\n",
    "import pandas as pd"
   ]
  },
  {
   "cell_type": "code",
   "execution_count": 10,
   "metadata": {
    "collapsed": true,
    "deletable": true,
    "editable": true
   },
   "outputs": [],
   "source": [
    "# init\n",
    "datadir = './data'\n",
    "\n",
    "# connect to cassandra\n",
    "contact_points = ['cassandra']\n",
    "\n",
    "cluster = Cluster(contact_points)\n",
    "session = cluster.connect()"
   ]
  },
  {
   "cell_type": "code",
   "execution_count": 11,
   "metadata": {
    "collapsed": false,
    "deletable": true,
    "editable": true
   },
   "outputs": [],
   "source": [
    "#matplotlib\n",
    "import matplotlib.pyplot as plt\n",
    "\n",
    "plt.rcParams['figure.figsize'] = (16.0, 16.0)\n",
    "plt.rcParams.update({'font.size': 12})\n",
    "plt.rcParams['xtick.major.pad']='5'\n",
    "plt.rcParams['ytick.major.pad']='5'\n",
    "\n",
    "plt.style.use('ggplot')"
   ]
  },
  {
   "cell_type": "markdown",
   "metadata": {
    "deletable": true,
    "editable": true
   },
   "source": [
    "### Prepare cassandra statements\n",
    "We are going to read events relative to a specific user."
   ]
  },
  {
   "cell_type": "code",
   "execution_count": 12,
   "metadata": {
    "collapsed": false,
    "deletable": true,
    "editable": true
   },
   "outputs": [],
   "source": [
    "# prepared statement for getting the name of the top venue in a given cluster\n",
    "cql_prepared = session.prepare(\"SELECT lon, lat from lbsn.events where uid= ?\")"
   ]
  },
  {
   "cell_type": "markdown",
   "metadata": {
    "deletable": true,
    "editable": true
   },
   "source": [
    "## Determining user-specific regions"
   ]
  },
  {
   "cell_type": "code",
   "execution_count": 13,
   "metadata": {
    "collapsed": false,
    "deletable": true,
    "editable": true
   },
   "outputs": [],
   "source": [
    "from sklearn.cluster import DBSCAN\n",
    "from scipy.spatial import ConvexHull\n",
    "from scipy.spatial import Delaunay\n",
    "\n",
    "def clusters(uid, radius=260):\n",
    "\n",
    "    #1deg at 40deg latitude is 111034.61 meters\n",
    "    eps = radius/111034.61\n",
    "\n",
    "    #user events\n",
    "    rows = session.execute(cql_prepared.bind([uid]))\n",
    "    \n",
    "    data = pd.DataFrame(list(rows))\n",
    "    db = DBSCAN(eps=eps, min_samples=3).fit(data)\n",
    "    \n",
    "    data['cl'] = db.labels_\n",
    "    return data\n",
    "\n",
    "    \n",
    "def regions(data):\n",
    "    hulls = []\n",
    "    for cl, group in data.groupby('cl'):\n",
    "        if cl>=0:\n",
    "            points = group[['lon','lat']].as_matrix()\n",
    "        try:\n",
    "            hull = ConvexHull(points, qhull_options='QJ Pp')\n",
    "            hull_vertices = np.array([ [points[i][0], points[i][1]] for i in hull.vertices ])\n",
    "            hulls.append(hull_vertices)\n",
    "        except:\n",
    "            pass\n",
    "    return hulls\n",
    "\n",
    "def in_hull(p, convexhull):\n",
    "    \"\"\"\n",
    "    Test if points in `p` are in `convexhull`\n",
    "    \"\"\"\n",
    "    # triangulation of convex hull vertices\n",
    "    if not isinstance(convexhull,Delaunay):\n",
    "        try:\n",
    "            hull = Delaunay(convexhull, qhull_options='QJ Pp')\n",
    "            res  = hull.find_simplex(p)>=0\n",
    "        except:\n",
    "            res = False\n",
    "\n",
    "    return res        "
   ]
  },
  {
   "cell_type": "code",
   "execution_count": 14,
   "metadata": {
    "collapsed": false,
    "deletable": true,
    "editable": true
   },
   "outputs": [],
   "source": [
    "def location_alert(uid, lon, lat):\n",
    "    \"\"\"\n",
    "    Determine if the given point is within any of the given convex hulls\n",
    "    If not, it gives  \n",
    "    \"\"\"\n",
    "    \n",
    "    result = False\n",
    "    hulls = regions(clusters(uid))\n",
    "    \n",
    "    for k in list(range(len(hulls))):\n",
    "        result = result or in_hull([lon, lat], hulls[k])\n",
    "        \n",
    "    return (not result)"
   ]
  },
  {
   "cell_type": "code",
   "execution_count": 15,
   "metadata": {
    "collapsed": false,
    "deletable": true,
    "editable": true
   },
   "outputs": [
    {
     "data": {
      "text/plain": [
       "False"
      ]
     },
     "execution_count": 15,
     "metadata": {},
     "output_type": "execute_result"
    }
   ],
   "source": [
    "location_alert(22, -73.99, 40.75)\n"
   ]
  },
  {
   "cell_type": "code",
   "execution_count": 16,
   "metadata": {
    "collapsed": false,
    "deletable": true,
    "editable": true
   },
   "outputs": [
    {
     "data": {
      "text/plain": [
       "True"
      ]
     },
     "execution_count": 16,
     "metadata": {},
     "output_type": "execute_result"
    }
   ],
   "source": [
    "location_alert(22, -73.99, 73.75)"
   ]
  },
  {
   "cell_type": "markdown",
   "metadata": {
    "deletable": true,
    "editable": true
   },
   "source": [
    "### Build the REST service"
   ]
  },
  {
   "cell_type": "code",
   "execution_count": 17,
   "metadata": {
    "collapsed": false,
    "deletable": true,
    "editable": true
   },
   "outputs": [
    {
     "name": "stderr",
     "output_type": "stream",
     "text": [
      " * Running on http://0.0.0.0:5000/ (Press CTRL+C to quit)\n",
      "172.22.0.1 - - [26/Jul/2017 12:52:20] \"GET /api/location/alert/22/-73.99,40.75 HTTP/1.1\" 200 -\n",
      "172.22.0.1 - - [26/Jul/2017 12:53:02] \"GET /api/location/alert/22/-73.99,73.75 HTTP/1.1\" 200 -\n"
     ]
    }
   ],
   "source": [
    "import json\n",
    "\n",
    "from flask import Flask\n",
    "app = Flask(\"location_alert\")\n",
    "\n",
    "@app.route(\"/api/location/alert/<int:uid>/<lon>,<lat>\")\n",
    "def alert_api(uid,lon, lat):\n",
    "    result = location_alert(uid,float(lon), float(lat))\n",
    "    return json.dumps(result)\n",
    "\n",
    "app.run(host='0.0.0.0')"
   ]
  },
  {
   "cell_type": "markdown",
   "metadata": {
    "deletable": true,
    "editable": true
   },
   "source": [
    "Try :  \n",
    "  - http://localhost:5000/api/location/alert/22/-73.99,40.75\n",
    "  - http://localhost:5000/api/location/alert/22/-73.99,73.75"
   ]
  },
  {
   "cell_type": "markdown",
   "metadata": {
    "deletable": true,
    "editable": true
   },
   "source": [
    "### Store the hulls in cassandra\n",
    "\n",
    "Instead of recomputing the hulls and triangules, let us store the geometries in cassandra.  \n",
    "First, we need to model users, clusters, triangles and vertices. Then we scan through the list of triangles and store them in cassandra."
   ]
  },
  {
   "cell_type": "code",
   "execution_count": 28,
   "metadata": {
    "collapsed": false
   },
   "outputs": [],
   "source": [
    "session.execute(\"DROP TABLE IF EXISTS lbsn.hulls\");\n",
    "\n",
    "cql_stmt = \"\"\"\n",
    "    CREATE TABLE lbsn.hulls (\n",
    "      uid    int,\n",
    "      cid    int,\n",
    "      tid    int,\n",
    "      vid    int,\n",
    "      lat    double,\n",
    "      lon    double,\n",
    "      PRIMARY KEY (uid, cid, tid, vid)\n",
    "    );\n",
    "\"\"\"\n",
    "result = session.execute(cql_stmt)"
   ]
  },
  {
   "cell_type": "code",
   "execution_count": 38,
   "metadata": {
    "collapsed": false
   },
   "outputs": [],
   "source": [
    "def store_hulls(uid, debug=False):\n",
    "    hulls = regions(clusters(uid))\n",
    "    cid=0\n",
    "    tid=0\n",
    "    vid=0\n",
    "    cnt=0 \n",
    "    for hull_vertices in hulls:\n",
    "        if hull_vertices.shape[0]>3:\n",
    "            tri = Delaunay(hull_vertices, qhull_options='QJ Pp')\n",
    "            tid=0\n",
    "            for t in tri.simplices:\n",
    "                if debug: print('--') \n",
    "                vid=0\n",
    "                for id in t:\n",
    "                    d = (uid, cid, tid, vid, hull_vertices[id][0], hull_vertices[id][1])\n",
    "                    cql_stmt = \"INSERT INTO lbsn.events (uid, cid, tid, vid, lon, lat)\" + \\\n",
    "                               \"values ({}, {}, {}, {}, {}, {})\".format(*d)\n",
    "                \n",
    "                    query = SimpleStatement (cql_stmt,consistency_level=ConsistencyLevel.ONE)\n",
    "                    session.execute_async(query)\n",
    "                    cnt += 1\n",
    "                    if debug: print(*d)\n",
    "                    vid += 1\n",
    "                tid += 1\n",
    "        cid +=1\n",
    "    print(\"Written {} entries for user {}\".format(cnt, uid))"
   ]
  },
  {
   "cell_type": "code",
   "execution_count": 39,
   "metadata": {},
   "outputs": [
    {
     "name": "stdout",
     "output_type": "stream",
     "text": [
      "Written 234 entries for user 22\n"
     ]
    }
   ],
   "source": [
    "store_hulls(22)"
   ]
  },
  {
   "cell_type": "code",
   "execution_count": null,
   "metadata": {},
   "outputs": [],
   "source": [
    "#todo: scan triangles"
   ]
  }
 ],
 "metadata": {
  "kernelspec": {
   "display_name": "Python 3",
   "language": "python",
   "name": "python3"
  },
  "language_info": {
   "codemirror_mode": {
    "name": "ipython",
    "version": 3
   },
   "file_extension": ".py",
   "mimetype": "text/x-python",
   "name": "python",
   "nbconvert_exporter": "python",
   "pygments_lexer": "ipython3",
   "version": "3.5.2"
  }
 },
 "nbformat": 4,
 "nbformat_minor": 1
}
